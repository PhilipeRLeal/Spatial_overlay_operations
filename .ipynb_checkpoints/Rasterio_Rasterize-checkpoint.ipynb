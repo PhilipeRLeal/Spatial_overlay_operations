{
 "cells": [
  {
   "cell_type": "code",
   "execution_count": 1,
   "metadata": {
    "collapsed": true
   },
   "outputs": [],
   "source": [
    "import geopandas as gpd\n",
    "import rasterio\n",
    "from rasterio import features\n",
    "import matplotlib.pyplot as plt\n",
    "import os, sys\n",
    "import numpy as np"
   ]
  },
  {
   "cell_type": "markdown",
   "metadata": {},
   "source": [
    "# Set up your filenames"
   ]
  },
  {
   "cell_type": "code",
   "execution_count": 2,
   "metadata": {
    "collapsed": false
   },
   "outputs": [
    {
     "name": "stdout",
     "output_type": "stream",
     "text": [
      "C:\\Doutorado\\2_Trimestre\\Disciplinas\\Climatologia\\ZEEs\\ZEE_Antares.tif\n"
     ]
    }
   ],
   "source": [
    "shp_fn = r'C:\\Doutorado\\2_Trimestre\\Disciplinas\\Climatologia\\ZEEs\\ZEE_Antares.shp'\n",
    "rst_fn = r'C:\\Doutorado\\2_Trimestre\\Disciplinas\\Climatologia\\Anomalia_simples\\Full_Year\\Anomalia_Integrada_para_1_ano_45_2055.tif'\n",
    "out_fn = str(os.path.abspath(shp_fn)[:-4]) + str('.tif')\n",
    "\n",
    "print(out_fn)"
   ]
  },
  {
   "cell_type": "code",
   "execution_count": 3,
   "metadata": {
    "collapsed": false
   },
   "outputs": [],
   "source": [
    "# open the file with GeoPANDAS read_file\n",
    "\n",
    "counties = gpd.read_file(shp_fn)"
   ]
  },
  {
   "cell_type": "markdown",
   "metadata": {},
   "source": [
    "# Open the raster file you want to use as a template for feature burning using rasterio"
   ]
  },
  {
   "cell_type": "code",
   "execution_count": 4,
   "metadata": {
    "collapsed": false
   },
   "outputs": [],
   "source": [
    "\n",
    "\n",
    "rst = rasterio.open(rst_fn)"
   ]
  },
  {
   "cell_type": "markdown",
   "metadata": {},
   "source": [
    "# copy and update the metadata from the input raster for the output"
   ]
  },
  {
   "cell_type": "code",
   "execution_count": 5,
   "metadata": {
    "collapsed": false
   },
   "outputs": [],
   "source": [
    "meta = rst.meta.copy()\n",
    "meta.update(compress='lzw')"
   ]
  },
  {
   "cell_type": "code",
   "execution_count": 6,
   "metadata": {
    "collapsed": false
   },
   "outputs": [
    {
     "name": "stderr",
     "output_type": "stream",
     "text": [
      "C:\\Anaconda3\\lib\\site-packages\\ipykernel\\__main__.py:6: SettingWithCopyWarning: \n",
      "A value is trying to be set on a copy of a slice from a DataFrame\n",
      "\n",
      "See the caveats in the documentation: http://pandas.pydata.org/pandas-docs/stable/indexing.html#indexing-view-versus-copy\n"
     ]
    },
    {
     "data": {
      "text/html": [
       "<div>\n",
       "<style scoped>\n",
       "    .dataframe tbody tr th:only-of-type {\n",
       "        vertical-align: middle;\n",
       "    }\n",
       "\n",
       "    .dataframe tbody tr th {\n",
       "        vertical-align: top;\n",
       "    }\n",
       "\n",
       "    .dataframe thead th {\n",
       "        text-align: right;\n",
       "    }\n",
       "</style>\n",
       "<table border=\"1\" class=\"dataframe\">\n",
       "  <thead>\n",
       "    <tr style=\"text-align: right;\">\n",
       "      <th></th>\n",
       "      <th>Name</th>\n",
       "      <th>Area</th>\n",
       "      <th>Tl_especif</th>\n",
       "      <th>Nome_Peixe</th>\n",
       "      <th>PPSAT_coun</th>\n",
       "      <th>PPSAT_sum</th>\n",
       "      <th>PPSAT_mean</th>\n",
       "      <th>PPSAT_min</th>\n",
       "      <th>PPSAT_max</th>\n",
       "      <th>geometry</th>\n",
       "      <th>ID</th>\n",
       "    </tr>\n",
       "  </thead>\n",
       "  <tbody>\n",
       "    <tr>\n",
       "      <th>0</th>\n",
       "      <td>Trindade</td>\n",
       "      <td>5.030717e+11</td>\n",
       "      <td>NaN</td>\n",
       "      <td>None</td>\n",
       "      <td>5850.0</td>\n",
       "      <td>1.892191e+06</td>\n",
       "      <td>323.451463</td>\n",
       "      <td>258.354034</td>\n",
       "      <td>406.260620</td>\n",
       "      <td>POLYGON ((-32.9004205306 -20.4669796671, -32.8...</td>\n",
       "      <td>1</td>\n",
       "    </tr>\n",
       "    <tr>\n",
       "      <th>1</th>\n",
       "      <td>Falkland Islands</td>\n",
       "      <td>8.955677e+11</td>\n",
       "      <td>NaN</td>\n",
       "      <td>None</td>\n",
       "      <td>10109.0</td>\n",
       "      <td>4.020786e+06</td>\n",
       "      <td>397.743241</td>\n",
       "      <td>132.797684</td>\n",
       "      <td>812.061096</td>\n",
       "      <td>POLYGON ((-65.0039325605 -51.3659626959, -64.6...</td>\n",
       "      <td>2</td>\n",
       "    </tr>\n",
       "    <tr>\n",
       "      <th>2</th>\n",
       "      <td>Clipperton Island</td>\n",
       "      <td>4.413001e+11</td>\n",
       "      <td>NaN</td>\n",
       "      <td>None</td>\n",
       "      <td>5126.0</td>\n",
       "      <td>3.228076e+06</td>\n",
       "      <td>629.745521</td>\n",
       "      <td>560.985229</td>\n",
       "      <td>670.776611</td>\n",
       "      <td>POLYGON ((-112.6230466049 10.2861223615, -112....</td>\n",
       "      <td>3</td>\n",
       "    </tr>\n",
       "    <tr>\n",
       "      <th>3</th>\n",
       "      <td>Galapagos Islands</td>\n",
       "      <td>8.494094e+11</td>\n",
       "      <td>NaN</td>\n",
       "      <td>None</td>\n",
       "      <td>9780.0</td>\n",
       "      <td>7.823887e+06</td>\n",
       "      <td>799.988450</td>\n",
       "      <td>0.870926</td>\n",
       "      <td>1893.190796</td>\n",
       "      <td>POLYGON ((-95.3457445888 1.6630853535, -95.296...</td>\n",
       "      <td>4</td>\n",
       "    </tr>\n",
       "  </tbody>\n",
       "</table>\n",
       "</div>"
      ],
      "text/plain": [
       "                Name          Area  Tl_especif Nome_Peixe  PPSAT_coun  \\\n",
       "0           Trindade  5.030717e+11         NaN       None      5850.0   \n",
       "1   Falkland Islands  8.955677e+11         NaN       None     10109.0   \n",
       "2  Clipperton Island  4.413001e+11         NaN       None      5126.0   \n",
       "3  Galapagos Islands  8.494094e+11         NaN       None      9780.0   \n",
       "\n",
       "      PPSAT_sum  PPSAT_mean   PPSAT_min    PPSAT_max  \\\n",
       "0  1.892191e+06  323.451463  258.354034   406.260620   \n",
       "1  4.020786e+06  397.743241  132.797684   812.061096   \n",
       "2  3.228076e+06  629.745521  560.985229   670.776611   \n",
       "3  7.823887e+06  799.988450    0.870926  1893.190796   \n",
       "\n",
       "                                            geometry  ID  \n",
       "0  POLYGON ((-32.9004205306 -20.4669796671, -32.8...   1  \n",
       "1  POLYGON ((-65.0039325605 -51.3659626959, -64.6...   2  \n",
       "2  POLYGON ((-112.6230466049 10.2861223615, -112....   3  \n",
       "3  POLYGON ((-95.3457445888 1.6630853535, -95.296...   4  "
      ]
     },
     "execution_count": 6,
     "metadata": {},
     "output_type": "execute_result"
    }
   ],
   "source": [
    "counties.keys()\n",
    "counties['ID'] = (0)\n",
    "\n",
    "for i in range(len(counties)):\n",
    "    \n",
    "    counties['ID'][i] = (i + 1)\n",
    "counties.head(4)"
   ]
  },
  {
   "cell_type": "markdown",
   "metadata": {},
   "source": [
    "# Now burn the features into the raster and write it out\n",
    "\n",
    "## Nesta função, cada pixel da imagem Tiff de saída terá um valor (burned) igual ao valor do ID da geometria utilizada."
   ]
  },
  {
   "cell_type": "code",
   "execution_count": 7,
   "metadata": {
    "collapsed": false
   },
   "outputs": [
    {
     "name": "stderr",
     "output_type": "stream",
     "text": [
      "C:\\Anaconda3\\lib\\site-packages\\rasterio\\__init__.py:160: FutureWarning: GDAL-style transforms are deprecated and will not be supported in Rasterio 1.0.\n",
      "  transform = guard_transform(transform)\n"
     ]
    },
    {
     "name": "stdout",
     "output_type": "stream",
     "text": [
      "\n",
      "\n",
      "\n",
      "\n"
     ]
    },
    {
     "data": {
      "image/png": "[encoded data removed]",
      "text/plain": [
       "<matplotlib.figure.Figure at 0x11be8b00>"
      ]
     },
     "metadata": {},
     "output_type": "display_data"
    },
    {
     "data": {
      "image/png": "[encoded data removed]",
      "text/plain": [
       "<matplotlib.figure.Figure at 0x135231d0>"
      ]
     },
     "metadata": {},
     "output_type": "display_data"
    }
   ],
   "source": [
    "out= None\n",
    "out_arr=None\n",
    "\n",
    "Raster_base=None\n",
    "\n",
    "with rasterio.open(out_fn, 'w', **meta) as out:\n",
    "    out_arr = out.read(1)\n",
    "    shapes = []\n",
    "    # this is where we create a generator of geom, value pairs to use in rasterizing\n",
    "    for geom, value in zip(counties.geometry, counties.ID):\n",
    "        shapes.append((geom,value))\n",
    "    \n",
    "  \n",
    "        \n",
    "    print(\"\\n\\n\\n\")\n",
    "    \n",
    "    burned = features.rasterize(shapes=shapes, fill=0, out=out_arr, transform=out.transform, dtype=np.float32)\n",
    "    out.write_band(1, burned)\n",
    "    \n",
    "    Raster_base_DT = rasterio.open(rst_fn)\n",
    "\n",
    "    Raster_base = Raster_base_DT.read(1)\n",
    "\n",
    "\n",
    "    plt.imshow(Raster_base, cmap = 'magma')\n",
    "\n",
    "    plt.colorbar()\n",
    "    plt.show()\n",
    "    \n",
    "    \n",
    "    plt.imshow(out_arr, cmap = 'Set1')\n",
    "    plt.colorbar()\n",
    "    \n",
    "    plt.show()\n"
   ]
  },
  {
   "cell_type": "code",
   "execution_count": 8,
   "metadata": {
    "collapsed": false
   },
   "outputs": [
    {
     "name": "stdout",
     "output_type": "stream",
     "text": [
      "Eis os shapes dos rasteres (base e burned):  (1152, 1488) , (1152, 1488)\n",
      "Max do array burned:  58.0\n",
      "33026.8\n",
      "1 602.143798828\n"
     ]
    },
    {
     "name": "stderr",
     "output_type": "stream",
     "text": [
      "C:\\Anaconda3\\lib\\site-packages\\ipykernel\\__main__.py:43: SettingWithCopyWarning: \n",
      "A value is trying to be set on a copy of a slice from a DataFrame\n",
      "\n",
      "See the caveats in the documentation: http://pandas.pydata.org/pandas-docs/stable/indexing.html#indexing-view-versus-copy\n",
      "C:\\Anaconda3\\lib\\site-packages\\ipykernel\\__main__.py:44: SettingWithCopyWarning: \n",
      "A value is trying to be set on a copy of a slice from a DataFrame\n",
      "\n",
      "See the caveats in the documentation: http://pandas.pydata.org/pandas-docs/stable/indexing.html#indexing-view-versus-copy\n",
      "C:\\Anaconda3\\lib\\site-packages\\ipykernel\\__main__.py:45: SettingWithCopyWarning: \n",
      "A value is trying to be set on a copy of a slice from a DataFrame\n",
      "\n",
      "See the caveats in the documentation: http://pandas.pydata.org/pandas-docs/stable/indexing.html#indexing-view-versus-copy\n",
      "C:\\Anaconda3\\lib\\site-packages\\ipykernel\\__main__.py:46: SettingWithCopyWarning: \n",
      "A value is trying to be set on a copy of a slice from a DataFrame\n",
      "\n",
      "See the caveats in the documentation: http://pandas.pydata.org/pandas-docs/stable/indexing.html#indexing-view-versus-copy\n",
      "C:\\Anaconda3\\lib\\site-packages\\ipykernel\\__main__.py:47: SettingWithCopyWarning: \n",
      "A value is trying to be set on a copy of a slice from a DataFrame\n",
      "\n",
      "See the caveats in the documentation: http://pandas.pydata.org/pandas-docs/stable/indexing.html#indexing-view-versus-copy\n"
     ]
    },
    {
     "name": "stdout",
     "output_type": "stream",
     "text": [
      "2 6992.64746094\n",
      "3 -3582.72802734\n",
      "4 -9546.3125\n",
      "5 2329.99316406\n",
      "6 2417.24438477\n",
      "7 1084.85290527\n",
      "8 -5541.56054688\n",
      "9 1090.96618652\n",
      "10 1154.12670898\n",
      "11 888.544189453\n",
      "12 354.816040039\n",
      "13 -232.835479736\n",
      "14 -1074.38598633\n",
      "15 -966.06262207\n",
      "16 -814.195922852\n",
      "17 -2960.70263672\n",
      "18 -166.694168091\n",
      "19 -240.163970947\n",
      "20 -6085.33691406\n",
      "21 0.0\n",
      "22 -4008.31762695\n",
      "23 -5044.68017578\n",
      "24 4140.01660156\n",
      "25 0.0\n",
      "26 0.0\n",
      "27 0.0\n",
      "28 -2551.30712891\n",
      "29 0.0\n",
      "30 3195.77490234\n",
      "31 0.0\n",
      "32 -18522.4140625\n",
      "33 0.0\n",
      "34 0.0\n",
      "35 16396.2402344\n",
      "36 2417.05957031\n",
      "37 0.0\n",
      "38 3107.99462891\n",
      "39 0.0\n",
      "40 10632.0839844\n",
      "41 0.0\n",
      "42 -166.694168091\n",
      "43 -688.588684082\n",
      "44 8110.69189453\n",
      "45 0.0\n",
      "46 -5583.87304688\n",
      "47 -3557.56958008\n",
      "48 0.0\n",
      "49 0.0\n",
      "50 1224.15759277\n",
      "51 5081.20703125\n",
      "52 8262.92578125\n",
      "53 69.0079803467\n",
      "54 -1744.87902832\n",
      "55 -2135.02832031\n",
      "56 33026.78125\n",
      "57 21749.6738281\n",
      "58 10342.1064453\n"
     ]
    }
   ],
   "source": [
    "print(\"Eis os shapes dos rasteres (base e burned): \", (Raster_base.shape) ,',', (out_arr.shape))\n",
    "\n",
    "print(\"Max do array burned: \", np.max(out_arr))\n",
    "\n",
    "out_arr = np.where(out_arr<(-0.1), np.nan, out_arr)\n",
    "\n",
    "\n",
    "\n",
    "Raster_base=None\n",
    "\n",
    "Raster_base_DT = rasterio.open(rst_fn)\n",
    "\n",
    "Raster_base = Raster_base_DT.read(1)\n",
    "\n",
    "Raster_base = np.nan_to_num(Raster_base)\n",
    "\n",
    "print(np.max(Raster_base))\n",
    "\n",
    "import os\n",
    "\n",
    "Base_name = os.path.basename(rst_fn)\n",
    "\n",
    "Base_name = Base_name[:-4]\n",
    "\n",
    "counties['MAX_' + str(Base_name)] = (0)\n",
    "counties['MIN_'+ str(Base_name)] = (0)\n",
    "counties['MEAN_' + str(Base_name)] = (0)\n",
    "counties['STD_' + str(Base_name)] = (0)\n",
    "counties['SUM_' + str(Base_name)] = (0)\n",
    "\n",
    "for i in range(len(counties)):\n",
    "    ID = counties['ID'][i]\n",
    "    ID = ID * 1.0\n",
    "    \n",
    "    out_arr_cor = np.where(out_arr==ID, 1.0, np.nan)\n",
    "    \n",
    "    Raster_Stat = Raster_base * out_arr_cor\n",
    "    \n",
    "    \n",
    "    \n",
    "    print(i+1, np.nanmax(Raster_Stat))\n",
    "    \n",
    "    counties['MAX_' + str(Base_name)][i] = np.nanmax(Raster_Stat)\n",
    "    counties['MIN_'+ str(Base_name)][i] = np.nanmin(Raster_Stat)\n",
    "    counties['MEAN_' + str(Base_name)][i] = np.nanmean(Raster_Stat)\n",
    "    counties['STD_' + str(Base_name)][i] = np.nanstd(Raster_Stat)\n",
    "    counties['SUM_' + str(Base_name)][i] = np.nansum(Raster_Stat)\n",
    "\n",
    "    \n",
    "   "
   ]
  },
  {
   "cell_type": "code",
   "execution_count": 9,
   "metadata": {
    "collapsed": false
   },
   "outputs": [
    {
     "data": {
      "text/html": [
       "<div>\n",
       "<style scoped>\n",
       "    .dataframe tbody tr th:only-of-type {\n",
       "        vertical-align: middle;\n",
       "    }\n",
       "\n",
       "    .dataframe tbody tr th {\n",
       "        vertical-align: top;\n",
       "    }\n",
       "\n",
       "    .dataframe thead th {\n",
       "        text-align: right;\n",
       "    }\n",
       "</style>\n",
       "<table border=\"1\" class=\"dataframe\">\n",
       "  <thead>\n",
       "    <tr style=\"text-align: right;\">\n",
       "      <th></th>\n",
       "      <th>Name</th>\n",
       "      <th>Area</th>\n",
       "      <th>Tl_especif</th>\n",
       "      <th>Nome_Peixe</th>\n",
       "      <th>PPSAT_coun</th>\n",
       "      <th>PPSAT_sum</th>\n",
       "      <th>PPSAT_mean</th>\n",
       "      <th>PPSAT_min</th>\n",
       "      <th>PPSAT_max</th>\n",
       "      <th>geometry</th>\n",
       "      <th>ID</th>\n",
       "      <th>MAX_Anomalia_Integrada_para_1_ano_45_2055</th>\n",
       "      <th>MIN_Anomalia_Integrada_para_1_ano_45_2055</th>\n",
       "      <th>MEAN_Anomalia_Integrada_para_1_ano_45_2055</th>\n",
       "      <th>STD_Anomalia_Integrada_para_1_ano_45_2055</th>\n",
       "      <th>SUM_Anomalia_Integrada_para_1_ano_45_2055</th>\n",
       "    </tr>\n",
       "  </thead>\n",
       "  <tbody>\n",
       "    <tr>\n",
       "      <th>0</th>\n",
       "      <td>Trindade</td>\n",
       "      <td>5.030717e+11</td>\n",
       "      <td>NaN</td>\n",
       "      <td>None</td>\n",
       "      <td>5850.0</td>\n",
       "      <td>1.892191e+06</td>\n",
       "      <td>323.451463</td>\n",
       "      <td>258.354034</td>\n",
       "      <td>406.260620</td>\n",
       "      <td>POLYGON ((-32.9004205306 -20.4669796671, -32.8...</td>\n",
       "      <td>1</td>\n",
       "      <td>602</td>\n",
       "      <td>-3769</td>\n",
       "      <td>-437</td>\n",
       "      <td>980</td>\n",
       "      <td>-2556911</td>\n",
       "    </tr>\n",
       "    <tr>\n",
       "      <th>1</th>\n",
       "      <td>Falkland Islands</td>\n",
       "      <td>8.955677e+11</td>\n",
       "      <td>NaN</td>\n",
       "      <td>None</td>\n",
       "      <td>10109.0</td>\n",
       "      <td>4.020786e+06</td>\n",
       "      <td>397.743241</td>\n",
       "      <td>132.797684</td>\n",
       "      <td>812.061096</td>\n",
       "      <td>POLYGON ((-65.0039325605 -51.3659626959, -64.6...</td>\n",
       "      <td>2</td>\n",
       "      <td>6992</td>\n",
       "      <td>-1461</td>\n",
       "      <td>4283</td>\n",
       "      <td>1668</td>\n",
       "      <td>44585106</td>\n",
       "    </tr>\n",
       "    <tr>\n",
       "      <th>2</th>\n",
       "      <td>Clipperton Island</td>\n",
       "      <td>4.413001e+11</td>\n",
       "      <td>NaN</td>\n",
       "      <td>None</td>\n",
       "      <td>5126.0</td>\n",
       "      <td>3.228076e+06</td>\n",
       "      <td>629.745521</td>\n",
       "      <td>560.985229</td>\n",
       "      <td>670.776611</td>\n",
       "      <td>POLYGON ((-112.6230466049 10.2861223615, -112....</td>\n",
       "      <td>3</td>\n",
       "      <td>-3582</td>\n",
       "      <td>-8657</td>\n",
       "      <td>-5875</td>\n",
       "      <td>1170</td>\n",
       "      <td>-30119660</td>\n",
       "    </tr>\n",
       "    <tr>\n",
       "      <th>3</th>\n",
       "      <td>Galapagos Islands</td>\n",
       "      <td>8.494094e+11</td>\n",
       "      <td>NaN</td>\n",
       "      <td>None</td>\n",
       "      <td>9780.0</td>\n",
       "      <td>7.823887e+06</td>\n",
       "      <td>799.988450</td>\n",
       "      <td>0.870926</td>\n",
       "      <td>1893.190796</td>\n",
       "      <td>POLYGON ((-95.3457445888 1.6630853535, -95.296...</td>\n",
       "      <td>4</td>\n",
       "      <td>-9546</td>\n",
       "      <td>-19856</td>\n",
       "      <td>-14477</td>\n",
       "      <td>2893</td>\n",
       "      <td>-142925769</td>\n",
       "    </tr>\n",
       "    <tr>\n",
       "      <th>4</th>\n",
       "      <td>Bahamas</td>\n",
       "      <td>7.132447e+11</td>\n",
       "      <td>NaN</td>\n",
       "      <td>None</td>\n",
       "      <td>8047.0</td>\n",
       "      <td>2.376720e+06</td>\n",
       "      <td>295.354756</td>\n",
       "      <td>12.487338</td>\n",
       "      <td>3958.699219</td>\n",
       "      <td>POLYGON ((-81.2152775756 23.9250003742, -81.18...</td>\n",
       "      <td>5</td>\n",
       "      <td>2329</td>\n",
       "      <td>-7752</td>\n",
       "      <td>-3547</td>\n",
       "      <td>2550</td>\n",
       "      <td>-29390373</td>\n",
       "    </tr>\n",
       "  </tbody>\n",
       "</table>\n",
       "</div>"
      ],
      "text/plain": [
       "                Name          Area  Tl_especif Nome_Peixe  PPSAT_coun  \\\n",
       "0           Trindade  5.030717e+11         NaN       None      5850.0   \n",
       "1   Falkland Islands  8.955677e+11         NaN       None     10109.0   \n",
       "2  Clipperton Island  4.413001e+11         NaN       None      5126.0   \n",
       "3  Galapagos Islands  8.494094e+11         NaN       None      9780.0   \n",
       "4            Bahamas  7.132447e+11         NaN       None      8047.0   \n",
       "\n",
       "      PPSAT_sum  PPSAT_mean   PPSAT_min    PPSAT_max  \\\n",
       "0  1.892191e+06  323.451463  258.354034   406.260620   \n",
       "1  4.020786e+06  397.743241  132.797684   812.061096   \n",
       "2  3.228076e+06  629.745521  560.985229   670.776611   \n",
       "3  7.823887e+06  799.988450    0.870926  1893.190796   \n",
       "4  2.376720e+06  295.354756   12.487338  3958.699219   \n",
       "\n",
       "                                            geometry  ID  \\\n",
       "0  POLYGON ((-32.9004205306 -20.4669796671, -32.8...   1   \n",
       "1  POLYGON ((-65.0039325605 -51.3659626959, -64.6...   2   \n",
       "2  POLYGON ((-112.6230466049 10.2861223615, -112....   3   \n",
       "3  POLYGON ((-95.3457445888 1.6630853535, -95.296...   4   \n",
       "4  POLYGON ((-81.2152775756 23.9250003742, -81.18...   5   \n",
       "\n",
       "   MAX_Anomalia_Integrada_para_1_ano_45_2055  \\\n",
       "0                                        602   \n",
       "1                                       6992   \n",
       "2                                      -3582   \n",
       "3                                      -9546   \n",
       "4                                       2329   \n",
       "\n",
       "   MIN_Anomalia_Integrada_para_1_ano_45_2055  \\\n",
       "0                                      -3769   \n",
       "1                                      -1461   \n",
       "2                                      -8657   \n",
       "3                                     -19856   \n",
       "4                                      -7752   \n",
       "\n",
       "   MEAN_Anomalia_Integrada_para_1_ano_45_2055  \\\n",
       "0                                        -437   \n",
       "1                                        4283   \n",
       "2                                       -5875   \n",
       "3                                      -14477   \n",
       "4                                       -3547   \n",
       "\n",
       "   STD_Anomalia_Integrada_para_1_ano_45_2055  \\\n",
       "0                                        980   \n",
       "1                                       1668   \n",
       "2                                       1170   \n",
       "3                                       2893   \n",
       "4                                       2550   \n",
       "\n",
       "   SUM_Anomalia_Integrada_para_1_ano_45_2055  \n",
       "0                                   -2556911  \n",
       "1                                   44585106  \n",
       "2                                  -30119660  \n",
       "3                                 -142925769  \n",
       "4                                  -29390373  "
      ]
     },
     "execution_count": 9,
     "metadata": {},
     "output_type": "execute_result"
    }
   ],
   "source": [
    "counties.head()"
   ]
  },
  {
   "cell_type": "code",
   "execution_count": 15,
   "metadata": {
    "collapsed": false
   },
   "outputs": [
    {
     "data": {
      "image/png": "[encoded data removed]",
      "text/plain": [
       "<matplotlib.figure.Figure at 0x21b44a20>"
      ]
     },
     "metadata": {},
     "output_type": "display_data"
    }
   ],
   "source": [
    "counties.plot(column= ('MAX_' + str(Base_name)) , scheme = 'Fisher_Jenks', cmap='magma', figsize=(8,8), legend=True)\n",
    "plt.show()"
   ]
  }
 ],
 "metadata": {
  "kernelspec": {
   "display_name": "Python 3",
   "language": "python",
   "name": "python3"
  },
  "language_info": {
   "codemirror_mode": {
    "name": "ipython",
    "version": 3
   },
   "file_extension": ".py",
   "mimetype": "text/x-python",
   "name": "python",
   "nbconvert_exporter": "python",
   "pygments_lexer": "ipython3",
   "version": "3.6.0"
  }
 },
 "nbformat": 4,
 "nbformat_minor": 2
}
