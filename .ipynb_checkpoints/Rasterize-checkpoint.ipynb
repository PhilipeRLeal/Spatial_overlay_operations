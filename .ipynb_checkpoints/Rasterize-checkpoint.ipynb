{
 "cells": [
  {
   "cell_type": "code",
   "execution_count": 61,
   "metadata": {
    "collapsed": false
   },
   "outputs": [
    {
     "ename": "ModuleNotFoundError",
     "evalue": "No module named 'Image'",
     "output_type": "error",
     "traceback": [
      "\u001b[0;31m---------------------------------------------------------------------------\u001b[0m",
      "\u001b[0;31mModuleNotFoundError\u001b[0m                       Traceback (most recent call last)",
      "\u001b[0;32m<ipython-input-61-4e5cbdbb9795>\u001b[0m in \u001b[0;36m<module>\u001b[0;34m()\u001b[0m\n\u001b[1;32m      6\u001b[0m \u001b[1;31m# as bibliotecas abaixo servem para manipulacao e operacao dos rasters e shapefiles:\u001b[0m\u001b[1;33m\u001b[0m\u001b[1;33m\u001b[0m\u001b[0m\n\u001b[1;32m      7\u001b[0m \u001b[1;32mfrom\u001b[0m \u001b[0mosgeo\u001b[0m \u001b[1;32mimport\u001b[0m \u001b[0mgdal\u001b[0m\u001b[1;33m,\u001b[0m \u001b[0mgdalnumeric\u001b[0m\u001b[1;33m,\u001b[0m \u001b[0mogr\u001b[0m\u001b[1;33m,\u001b[0m \u001b[0mosr\u001b[0m\u001b[1;33m\u001b[0m\u001b[0m\n\u001b[0;32m----> 8\u001b[0;31m \u001b[1;32mimport\u001b[0m \u001b[0mImage\u001b[0m\u001b[1;33m,\u001b[0m \u001b[0mImageDraw\u001b[0m\u001b[1;33m\u001b[0m\u001b[0m\n\u001b[0m\u001b[1;32m      9\u001b[0m \u001b[1;32mimport\u001b[0m \u001b[0mos\u001b[0m\u001b[1;33m,\u001b[0m \u001b[0msys\u001b[0m\u001b[1;33m\u001b[0m\u001b[0m\n\u001b[1;32m     10\u001b[0m \u001b[0mgdal\u001b[0m\u001b[1;33m.\u001b[0m\u001b[0mUseExceptions\u001b[0m\u001b[1;33m(\u001b[0m\u001b[1;33m)\u001b[0m\u001b[1;33m\u001b[0m\u001b[0m\n",
      "\u001b[0;31mModuleNotFoundError\u001b[0m: No module named 'Image'"
     ]
    }
   ],
   "source": [
    "import geopandas as gpd\n",
    "import numpy as np\n",
    "import matplotlib.pyplot as mp\n",
    "import os, sys\n",
    "\n",
    "# as bibliotecas abaixo servem para manipulacao e operacao dos rasters e shapefiles:\n",
    "from osgeo import gdal, gdalnumeric, ogr, osr\n",
    "import Image, ImageDraw\n",
    "import os, sys\n",
    "gdal.UseExceptions()"
   ]
  },
  {
   "cell_type": "code",
   "execution_count": 1,
   "metadata": {
    "collapsed": false
   },
   "outputs": [
    {
     "name": "stdout",
     "output_type": "stream",
     "text": [
      "C:\\Users\\Philipe Leal\\Python\\Vetores\\Recortando_Raster\\Shapefile_rec_UTM_22S.shp\n",
      "C:\\Users\\Philipe Leal\\Python\\Vetores\\Recortando_Raster\\Shapefile_rec_UTM_22S.shp\\Shapefile_rec_UTM_22S_Real.shp\n"
     ]
    }
   ],
   "source": [
    "import os\n",
    "\n",
    "Shapefile_Path = r'C:\\Users\\Philipe Leal\\Python\\Vetores\\Recortando_Raster'\n",
    "\n",
    "for file in os.listdir(Shapefile_Path):\n",
    "    if file.endswith(\".shp\"):\n",
    "        \n",
    "        Shapefile_Path = os.path.join(Shapefile_Path, file)\n",
    "        print(Shapefile_Path)"
   ]
  },
  {
   "cell_type": "code",
   "execution_count": 23,
   "metadata": {
    "collapsed": false
   },
   "outputs": [],
   "source": [
    "Shapefile = gpd.read_file(Shapefile_Path)\n"
   ]
  },
  {
   "cell_type": "code",
   "execution_count": 26,
   "metadata": {
    "collapsed": false
   },
   "outputs": [
    {
     "data": {
      "text/html": [
       "<div>\n",
       "<style scoped>\n",
       "    .dataframe tbody tr th:only-of-type {\n",
       "        vertical-align: middle;\n",
       "    }\n",
       "\n",
       "    .dataframe tbody tr th {\n",
       "        vertical-align: top;\n",
       "    }\n",
       "\n",
       "    .dataframe thead th {\n",
       "        text-align: right;\n",
       "    }\n",
       "</style>\n",
       "<table border=\"1\" class=\"dataframe\">\n",
       "  <thead>\n",
       "    <tr style=\"text-align: right;\">\n",
       "      <th></th>\n",
       "      <th>id</th>\n",
       "      <th>geometry</th>\n",
       "    </tr>\n",
       "  </thead>\n",
       "  <tbody>\n",
       "    <tr>\n",
       "      <th>0</th>\n",
       "      <td>1</td>\n",
       "      <td>POLYGON ((-5469651.41989986 -2437692.629376323...</td>\n",
       "    </tr>\n",
       "  </tbody>\n",
       "</table>\n",
       "</div>"
      ],
      "text/plain": [
       "   id                                           geometry\n",
       "0   1  POLYGON ((-5469651.41989986 -2437692.629376323..."
      ]
     },
     "execution_count": 26,
     "metadata": {},
     "output_type": "execute_result"
    }
   ],
   "source": [
    "Shapefile.head()"
   ]
  },
  {
   "cell_type": "code",
   "execution_count": 27,
   "metadata": {
    "collapsed": false
   },
   "outputs": [
    {
     "data": {
      "text/plain": [
       "id           int64\n",
       "geometry    object\n",
       "dtype: object"
      ]
     },
     "execution_count": 27,
     "metadata": {},
     "output_type": "execute_result"
    }
   ],
   "source": [
    "Shapefile.dtypes"
   ]
  },
  {
   "cell_type": "code",
   "execution_count": 35,
   "metadata": {
    "collapsed": false
   },
   "outputs": [
    {
     "data": {
      "image/png": "[encoded data removed]",
      "text/plain": [
       "<matplotlib.figure.Figure at 0x12e1e940>"
      ]
     },
     "metadata": {},
     "output_type": "display_data"
    }
   ],
   "source": [
    "Shapefile.plot( color='red', markersize=5, figsize=(20, 10))\n",
    "mp.show()"
   ]
  },
  {
   "cell_type": "markdown",
   "metadata": {},
   "source": [
    "# Convert an OGR File to a Raster"
   ]
  },
  {
   "cell_type": "code",
   "execution_count": 286,
   "metadata": {
    "collapsed": false
   },
   "outputs": [
    {
     "name": "stdout",
     "output_type": "stream",
     "text": [
      "Tentando abrir Dataset Shapefile\n",
      "\n",
      "\n",
      "Dataset Shapefile aberto com Sucesso!\n",
      "\n",
      "layer 1 do shapefile obtida com sucesso!\n",
      "<osgeo.ogr.Layer; proxy of <Swig Object of type 'OGRLayerShadow *' at 0x000000001250DA20> >\n",
      "\n",
      "Bounding Box de Referência do Shapefile de origem obtida com sucesso!\n"
     ]
    }
   ],
   "source": [
    "# Define pixel_size and NoData value of new raster\n",
    "\n",
    "# Para obtencao do tamanho do pixel extrair valores do Getotransform a partir da imagem Tiff a ser recortada:\n",
    "\n",
    "pixel_size_X = Tiff_1_dataset.GetGeoTransform()[1]\n",
    "pixel_size_Y = Tiff_1_dataset.GetGeoTransform()[5]\n",
    "\n",
    "\n",
    "# Quando o píxel é quadrado\n",
    "\n",
    "pixel_size = pixel_size_X\n",
    "\n",
    "NoData_value = 0\n",
    "Data_value = 1\n",
    "\n",
    "# Filename of input OGR file\n",
    "vector_fn = Shapefile_Path\n",
    "\n",
    "# Filename of the raster Tiff that will be created\n",
    "raster_fn = 'C:/Users/Philipe Leal/Documents/Shapefile_Rasterizado.tif'\n",
    "\n",
    "# Open the data source and read in the extent\n",
    "\n",
    "try:\n",
    "    print(\"Tentando abrir Dataset Shapefile\\n\")\n",
    "    source_Shapefile_ds = ogr.Open(vector_fn)\n",
    "    print(\"\\nDataset Shapefile aberto com Sucesso!\")\n",
    "except:\n",
    "    print(\"Dataset nao foi aberto!\")\n",
    "try:\n",
    "    source_Shapefile_layer = source_Shapefile_ds.GetLayer(0)\n",
    "    print(\"\\nlayer 1 do shapefile obtida com sucesso!\")\n",
    "    print(source_layer)\n",
    "except:\n",
    "    print(\"Problemas!\")\n",
    "\n",
    "try:    \n",
    "    x_min, x_max, y_min, y_max = source_Shapefile_layer.GetExtent()\n",
    "    print(\"\\nBounding Box de Referência do Shapefile de origem obtida com sucesso!\")\n",
    "except:\n",
    "    print(\"\\nProblemas na aquisicao do Bounding Box do Shapefile\")\n",
    "\n",
    "# Create the destination data source\n",
    "x_res = int((x_max - x_min) / pixel_size)\n",
    "y_res = int((y_max - y_min) / pixel_size)\n",
    "target_Raster_ds = gdal.GetDriverByName('GTiff').Create(raster_fn, x_res, y_res, 1, gdal.GDT_Byte)\n",
    "target_ds.SetGeoTransform((x_min, pixel_size, 0, y_max, 0, -pixel_size))\n",
    "target_ds.SetProjection(Tiff_1_dataset.GetProjection())\n",
    "band = target_Raster_ds.GetRasterBand(1)\n",
    "band.SetNoDataValue(NoData_value)\n",
    "nodata = band.GetNoDataValue()\n",
    "band.Fill(nodata)\n",
    "import time\n",
    "\n",
    "time.sleep(2)"
   ]
  },
  {
   "cell_type": "code",
   "execution_count": 287,
   "metadata": {
    "collapsed": false
   },
   "outputs": [
    {
     "data": {
      "text/plain": [
       "3"
      ]
     },
     "execution_count": 287,
     "metadata": {},
     "output_type": "execute_result"
    }
   ],
   "source": [
    "# Rasterize\n",
    "target_Raster_ds = gdal.Open(raster_fn)\n",
    "\n",
    "A = gdal.RasterizeLayer(target_Raster_ds, [1], source_Shapefile_layer, None, None, [0] , burn_values = [1], ['ALL_TOUCHED=TRUE'])\n",
    "time.sleep(5)"
   ]
  },
  {
   "cell_type": "code",
   "execution_count": 267,
   "metadata": {
    "collapsed": false
   },
   "outputs": [
    {
     "data": {
      "text/plain": [
       "<osgeo.gdal.Dataset; proxy of <Swig Object of type 'GDALDatasetShadow *' at 0x00000000121FD8D0> >"
      ]
     },
     "execution_count": 267,
     "metadata": {},
     "output_type": "execute_result"
    }
   ],
   "source": [
    "target_Raster_ds"
   ]
  },
  {
   "cell_type": "code",
   "execution_count": 206,
   "metadata": {
    "collapsed": false
   },
   "outputs": [
    {
     "data": {
      "text/plain": [
       "'PROJCS[\"WGS 84 / UTM zone 22N\",GEOGCS[\"WGS 84\",DATUM[\"WGS_1984\",SPHEROID[\"WGS 84\",6378137,298.257223563,AUTHORITY[\"EPSG\",\"7030\"]],AUTHORITY[\"EPSG\",\"6326\"]],PRIMEM[\"Greenwich\",0],UNIT[\"degree\",0.0174532925199433],AUTHORITY[\"EPSG\",\"4326\"]],PROJECTION[\"Transverse_Mercator\"],PARAMETER[\"latitude_of_origin\",0],PARAMETER[\"central_meridian\",-51],PARAMETER[\"scale_factor\",0.9996],PARAMETER[\"false_easting\",500000],PARAMETER[\"false_northing\",0],UNIT[\"metre\",1,AUTHORITY[\"EPSG\",\"9001\"]],AUTHORITY[\"EPSG\",\"32622\"]]'"
      ]
     },
     "execution_count": 206,
     "metadata": {},
     "output_type": "execute_result"
    }
   ],
   "source": [
    "Tiff_1_dataset.GetProjection()"
   ]
  },
  {
   "cell_type": "code",
   "execution_count": 202,
   "metadata": {
    "collapsed": false
   },
   "outputs": [
    {
     "name": "stdout",
     "output_type": "stream",
     "text": [
      "30.0\n"
     ]
    }
   ],
   "source": []
  },
  {
   "cell_type": "code",
   "execution_count": 57,
   "metadata": {
    "collapsed": false
   },
   "outputs": [
    {
     "name": "stdout",
     "output_type": "stream",
     "text": [
      "['C:\\\\Doutorado\\\\3_trimestre\\\\Analise_Espacial\\\\Enner\\\\Imagens_Regiao\\\\LO82210752017317CUB00_B1.TIF']\n",
      "['C:\\\\Doutorado\\\\3_trimestre\\\\Analise_Espacial\\\\Enner\\\\Imagens_Regiao\\\\LO82210752017317CUB00_B1.TIF', 'C:\\\\Doutorado\\\\3_trimestre\\\\Analise_Espacial\\\\Enner\\\\Imagens_Regiao\\\\LO82210752017317CUB00_B2.TIF']\n",
      "['C:\\\\Doutorado\\\\3_trimestre\\\\Analise_Espacial\\\\Enner\\\\Imagens_Regiao\\\\LO82210752017317CUB00_B1.TIF', 'C:\\\\Doutorado\\\\3_trimestre\\\\Analise_Espacial\\\\Enner\\\\Imagens_Regiao\\\\LO82210752017317CUB00_B2.TIF', 'C:\\\\Doutorado\\\\3_trimestre\\\\Analise_Espacial\\\\Enner\\\\Imagens_Regiao\\\\LO82210752017317CUB00_B3.TIF']\n",
      "['C:\\\\Doutorado\\\\3_trimestre\\\\Analise_Espacial\\\\Enner\\\\Imagens_Regiao\\\\LO82210752017317CUB00_B1.TIF', 'C:\\\\Doutorado\\\\3_trimestre\\\\Analise_Espacial\\\\Enner\\\\Imagens_Regiao\\\\LO82210752017317CUB00_B2.TIF', 'C:\\\\Doutorado\\\\3_trimestre\\\\Analise_Espacial\\\\Enner\\\\Imagens_Regiao\\\\LO82210752017317CUB00_B3.TIF', 'C:\\\\Doutorado\\\\3_trimestre\\\\Analise_Espacial\\\\Enner\\\\Imagens_Regiao\\\\LO82210752017317CUB00_B4.TIF']\n",
      "['C:\\\\Doutorado\\\\3_trimestre\\\\Analise_Espacial\\\\Enner\\\\Imagens_Regiao\\\\LO82210752017317CUB00_B1.TIF', 'C:\\\\Doutorado\\\\3_trimestre\\\\Analise_Espacial\\\\Enner\\\\Imagens_Regiao\\\\LO82210752017317CUB00_B2.TIF', 'C:\\\\Doutorado\\\\3_trimestre\\\\Analise_Espacial\\\\Enner\\\\Imagens_Regiao\\\\LO82210752017317CUB00_B3.TIF', 'C:\\\\Doutorado\\\\3_trimestre\\\\Analise_Espacial\\\\Enner\\\\Imagens_Regiao\\\\LO82210752017317CUB00_B4.TIF', 'C:\\\\Doutorado\\\\3_trimestre\\\\Analise_Espacial\\\\Enner\\\\Imagens_Regiao\\\\LO82210752017317CUB00_B5.TIF']\n",
      "['C:\\\\Doutorado\\\\3_trimestre\\\\Analise_Espacial\\\\Enner\\\\Imagens_Regiao\\\\LO82210752017317CUB00_B1.TIF', 'C:\\\\Doutorado\\\\3_trimestre\\\\Analise_Espacial\\\\Enner\\\\Imagens_Regiao\\\\LO82210752017317CUB00_B2.TIF', 'C:\\\\Doutorado\\\\3_trimestre\\\\Analise_Espacial\\\\Enner\\\\Imagens_Regiao\\\\LO82210752017317CUB00_B3.TIF', 'C:\\\\Doutorado\\\\3_trimestre\\\\Analise_Espacial\\\\Enner\\\\Imagens_Regiao\\\\LO82210752017317CUB00_B4.TIF', 'C:\\\\Doutorado\\\\3_trimestre\\\\Analise_Espacial\\\\Enner\\\\Imagens_Regiao\\\\LO82210752017317CUB00_B5.TIF', 'C:\\\\Doutorado\\\\3_trimestre\\\\Analise_Espacial\\\\Enner\\\\Imagens_Regiao\\\\LO82210752017317CUB00_B6.TIF']\n",
      "['C:\\\\Doutorado\\\\3_trimestre\\\\Analise_Espacial\\\\Enner\\\\Imagens_Regiao\\\\LO82210752017317CUB00_B1.TIF', 'C:\\\\Doutorado\\\\3_trimestre\\\\Analise_Espacial\\\\Enner\\\\Imagens_Regiao\\\\LO82210752017317CUB00_B2.TIF', 'C:\\\\Doutorado\\\\3_trimestre\\\\Analise_Espacial\\\\Enner\\\\Imagens_Regiao\\\\LO82210752017317CUB00_B3.TIF', 'C:\\\\Doutorado\\\\3_trimestre\\\\Analise_Espacial\\\\Enner\\\\Imagens_Regiao\\\\LO82210752017317CUB00_B4.TIF', 'C:\\\\Doutorado\\\\3_trimestre\\\\Analise_Espacial\\\\Enner\\\\Imagens_Regiao\\\\LO82210752017317CUB00_B5.TIF', 'C:\\\\Doutorado\\\\3_trimestre\\\\Analise_Espacial\\\\Enner\\\\Imagens_Regiao\\\\LO82210752017317CUB00_B6.TIF', 'C:\\\\Doutorado\\\\3_trimestre\\\\Analise_Espacial\\\\Enner\\\\Imagens_Regiao\\\\LO82210752017317CUB00_B7.TIF']\n"
     ]
    }
   ],
   "source": [
    "import os\n",
    "\n",
    "Tiff_Path = r'C:\\Doutorado\\3_trimestre\\Analise_Espacial\\Enner\\Imagens_Regiao'\n",
    "Tiff_Path_Dir = []\n",
    "\n",
    "for file in os.listdir(Tiff_Path):\n",
    "    if file.endswith(\".TIF\"):\n",
    "        \n",
    "        Tiff_Path_Dir.append(os.path.join(Tiff_Path, file))\n",
    "        print(Tiff_Path_Dir)"
   ]
  },
  {
   "cell_type": "code",
   "execution_count": 98,
   "metadata": {
    "collapsed": false
   },
   "outputs": [
    {
     "name": "stdout",
     "output_type": "stream",
     "text": [
      "Numero de Bandas por Arquivo: 1\n",
      "Banda 1 aberta com sucesso!\n",
      "[ STATS ] =  Minimum=0.000, Maximum=26275.000, Mean=7101.020, StdDev=4788.634\n"
     ]
    }
   ],
   "source": [
    "Tiff_1_dataset = gdal.Open(Tiff_Path_Dir[0])\n",
    "Tiff_1_dataset_RasterCount = Tiff_1_dataset.RasterCount\n",
    "\n",
    "print(\"Numero de Bandas por Arquivo: {0}\".format(Tiff_1_dataset.RasterCount))\n",
    "\n",
    "try:\n",
    "    Tiff_1_dataset = gdal.Open(Tiff_Path_Dir[0])\n",
    "except e:\n",
    "    print ('Unable to open INPUT.tif')\n",
    "    print (e)\n",
    "    sys.exit(1)\n",
    "\n",
    "try:\n",
    "    for banda in range(Tiff_1_dataset_RasterCount): \n",
    "        Tiff_1_Bandas = Tiff_1_dataset.GetRasterBand(banda+1)\n",
    "        \n",
    "        print(\"Banda {0} aberta com sucesso!\".format(banda+1))\n",
    "        if Tiff_1_Bandas is None:\n",
    "            continue\n",
    "\n",
    "        stats = Tiff_1_Bandas.GetStatistics( True, True )\n",
    "        if stats is None:\n",
    "            continue\n",
    "    \n",
    "        print (\"[ STATS ] =  Minimum=%.3f, Maximum=%.3f, Mean=%.3f, StdDev=%.3f\" % \n",
    "               ( stats[0], stats[1], stats[2], stats[3] ))\n",
    "    \n",
    "except e:\n",
    "    # for example, try GetRasterBand(10)\n",
    "    print ('Band ( %i ) not found' % band_num)\n",
    "    print (e)\n",
    "    sys.exit(1)"
   ]
  },
  {
   "cell_type": "code",
   "execution_count": 103,
   "metadata": {
    "collapsed": false
   },
   "outputs": [],
   "source": [
    "# This function will convert the rasterized clipper shapefile\n",
    "# to a mask for use within GDAL.\n",
    "def imageToArray(i):\n",
    "    \"\"\"\n",
    "    Converts a Python Imaging Library array to a\n",
    "    gdalnumeric image.\n",
    "    \"\"\"\n",
    "    a=gdalnumeric.fromstring(i.tostring(),'b')\n",
    "    a.shape=i.im.size[1], i.im.size[0]\n",
    "    return a\n",
    "\n",
    "def arrayToImage(a):\n",
    "    \"\"\"\n",
    "    Converts a gdalnumeric array to a\n",
    "    Python Imaging Library Image.\n",
    "    \"\"\"\n",
    "    i=Image.fromstring('L',(a.shape[1],a.shape[0]),\n",
    "            (a.astype('b')).tostring())\n",
    "    return i"
   ]
  },
  {
   "cell_type": "code",
   "execution_count": 104,
   "metadata": {
    "collapsed": true
   },
   "outputs": [],
   "source": [
    "\n",
    "def world2Pixel(geoMatrix, x, y):\n",
    "  \"\"\"\n",
    "  Uses a gdal geomatrix (gdal.GetGeoTransform()) to calculate\n",
    "  the pixel location of a geospatial coordinate\n",
    "  \"\"\"\n",
    "  ulX = geoMatrix[0]\n",
    "  ulY = geoMatrix[3]\n",
    "  xDist = geoMatrix[1]\n",
    "  yDist = geoMatrix[5]\n",
    "  rtnX = geoMatrix[2]\n",
    "  rtnY = geoMatrix[4]\n",
    "  pixel = int((x - ulX) / xDist)\n",
    "  line = int((ulY - y) / xDist)\n",
    "  return (pixel, line)\n",
    "\n",
    "#\n",
    "#  EDIT: this is basically an overloaded\n",
    "#  version of the gdal_array.OpenArray passing in xoff, yoff explicitly\n",
    "#  so we can pass these params off to CopyDatasetInfo"
   ]
  },
  {
   "cell_type": "code",
   "execution_count": 105,
   "metadata": {
    "collapsed": true
   },
   "outputs": [],
   "source": [
    "def OpenArray( array, prototype_ds = None, xoff=0, yoff=0 ):\n",
    "    ds = gdal.Open( gdalnumeric.GetArrayFilename(array) )\n",
    "\n",
    "    if ds is not None and prototype_ds is not None:\n",
    "        if type(prototype_ds).__name__ == 'str':\n",
    "            prototype_ds = gdal.Open( prototype_ds )\n",
    "        if prototype_ds is not None:\n",
    "            gdalnumeric.CopyDatasetInfo( prototype_ds, ds, xoff=xoff, yoff=yoff )\n",
    "    return ds\n",
    "\n",
    "def histogram(a, bins=range(0,256)):\n",
    "  \"\"\"\n",
    "  Histogram function for multi-dimensional array.\n",
    "  a = array\n",
    "  bins = range of numbers to match\n",
    "  \"\"\"\n",
    "  fa = a.flat\n",
    "  n = gdalnumeric.searchsorted(gdalnumeric.sort(fa), bins)\n",
    "  n = gdalnumeric.concatenate([n, [len(fa)]])\n",
    "  hist = n[1:]-n[:-1]\n",
    "  return hist\n"
   ]
  },
  {
   "cell_type": "code",
   "execution_count": 106,
   "metadata": {
    "collapsed": true
   },
   "outputs": [],
   "source": [
    "\n",
    "def stretch(a):\n",
    "  \"\"\"\n",
    "  Performs a histogram stretch on a gdalnumeric array image.\n",
    "  \"\"\"\n",
    "  hist = histogram(a)\n",
    "  im = arrayToImage(a)\n",
    "  lut = []\n",
    "  for b in range(0, len(hist), 256):\n",
    "    # step size\n",
    "    step = reduce(operator.add, hist[b:b+256]) / 255\n",
    "    # create equalization lookup table\n",
    "    n = 0\n",
    "    for i in range(256):\n",
    "      lut.append(n / step)\n",
    "      n = n + hist[i+b]\n",
    "  im = im.point(lut)\n",
    "  return imageToArray(im)\n"
   ]
  },
  {
   "cell_type": "code",
   "execution_count": 111,
   "metadata": {
    "collapsed": false
   },
   "outputs": [],
   "source": [
    "\n",
    "def main( shapefile_path, raster_path ):\n",
    "    # Load the source data as a gdalnumeric array\n",
    "    srcArray = gdal.Open(raster_path)\n",
    "\n",
    "    # Also load as a gdal image to get geotransform\n",
    "    # (world file) info\n",
    "    srcImage = gdal.Open(raster_path)\n",
    "    srcImage = srcImage.GetRasterBand(1)\n",
    "    geoTrans = srcImage.GetGeoTransform()\n",
    "\n",
    "    # Create an OGR layer from a boundary shapefile\n",
    "    shapef = ogr.Open(shapefile_path)\n",
    "    lyr = shapef.GetLayer( os.path.split( os.path.splitext( shapefile_path )[0] )[1] )\n",
    "    poly = lyr.GetNextFeature()\n",
    "\n",
    "    # Convert the layer extent to image pixel coordinates\n",
    "    minX, maxX, minY, maxY = lyr.GetExtent()\n",
    "    ulX, ulY = world2Pixel(geoTrans, minX, maxY)\n",
    "    lrX, lrY = world2Pixel(geoTrans, maxX, minY)\n",
    "\n",
    "    # Calculate the pixel size of the new image\n",
    "    pxWidth = int(lrX - ulX)\n",
    "    pxHeight = int(lrY - ulY)\n",
    "\n",
    "    clip = srcArray[:, ulY:lrY, ulX:lrX]\n",
    "\n",
    "    #\n",
    "    # EDIT: create pixel offset to pass to new image Projection info\n",
    "    #\n",
    "    xoffset =  ulX\n",
    "    yoffset =  ulY\n",
    "    print (\"Xoffset, Yoffset = ( %f, %f )\" % ( xoffset, yoffset ))\n",
    "\n",
    "    # Create a new geomatrix for the image\n",
    "    geoTrans = list(geoTrans)\n",
    "    geoTrans[0] = minX\n",
    "    geoTrans[3] = maxY\n",
    "\n",
    "    # Map points to pixels for drawing the\n",
    "    # boundary on a blank 8-bit,\n",
    "    # black and white, mask image.\n",
    "    points = []\n",
    "    pixels = []\n",
    "    geom = poly.GetGeometryRef()\n",
    "    pts = geom.GetGeometryRef(0)\n",
    "    for p in range(pts.GetPointCount()):\n",
    "      points.append((pts.GetX(p), pts.GetY(p)))\n",
    "    for p in points:\n",
    "      pixels.append(world2Pixel(geoTrans, p[0], p[1]))\n",
    "    rasterPoly = Image.new(\"L\", (pxWidth, pxHeight), 1)\n",
    "    rasterize = ImageDraw.Draw(rasterPoly)\n",
    "    rasterize.polygon(pixels, 0)\n",
    "    mask = imageToArray(rasterPoly)\n",
    "\n",
    "    # Clip the image using the mask\n",
    "    clip = gdalnumeric.choose(mask, \\\n",
    "        (clip, 0)).astype(gdalnumeric.uint8)\n",
    "\n",
    "    # This image has 3 bands so we stretch each one to make them\n",
    "    # visually brighter\n",
    "    for i in range(3):\n",
    "      clip[i,:,:] = stretch(clip[i,:,:])\n",
    "\n",
    "    # Save new tiff\n",
    "    #\n",
    "    #  EDIT: instead of SaveArray, let's break all the\n",
    "    #  SaveArray steps out more explicity so\n",
    "    #  we can overwrite the offset of the destination\n",
    "    #  raster\n",
    "    #\n",
    "    ### the old way using SaveArray\n",
    "    #\n",
    "    # gdalnumeric.SaveArray(clip, \"OUTPUT.tif\", format=\"GTiff\", prototype=raster_path)\n",
    "    #\n",
    "    ###\n",
    "    #\n",
    "    gtiffDriver = gdal.GetDriverByName( 'GTiff' )\n",
    "    if gtiffDriver is None:\n",
    "        raise ValueError(\"Can't find GeoTiff Driver\")\n",
    "    gtiffDriver.CreateCopy( \"OUTPUT.tif\",\n",
    "        OpenArray( clip, prototype_ds=raster_path, xoff=xoffset, yoff=yoffset )\n",
    "    )\n",
    "\n",
    "    # Save as an 8-bit jpeg for an easy, quick preview\n",
    "    clip = clip.astype(gdalnumeric.uint8)\n",
    "    gdalnumeric.SaveArray(clip, \"OUTPUT.jpg\", format=\"JPEG\")\n",
    "\n",
    "    gdal.ErrorReset()\n",
    "\n",
    "\n",
    "if __name__ == '__main__':\n",
    "\n",
    "    #\n",
    "    # example run : $ python clip.py /<full-path>/<shapefile-name>.shp /<full-path>/<raster-name>.tif\n",
    "    #\n",
    "    if len( sys.argv ) < 2:\n",
    "        print (\"[ ERROR ] you must two args. 1) the full shapefile path and 2) the full raster path\")\n",
    "        sys.exit( 1 )\n"
   ]
  },
  {
   "cell_type": "code",
   "execution_count": 122,
   "metadata": {
    "collapsed": false
   },
   "outputs": [
    {
     "name": "stdout",
     "output_type": "stream",
     "text": [
      "(563985.0, 30.0, 0.0, -2280285.0, 0.0, -30.0)\n"
     ]
    }
   ],
   "source": [
    "\n",
    "print(Tiff_1_dataset.GetGeoTransform())\n",
    "#Tiff_1_dataset\n",
    "#Tiff_1_dataset_RasterCount"
   ]
  },
  {
   "cell_type": "code",
   "execution_count": 169,
   "metadata": {
    "collapsed": false
   },
   "outputs": [],
   "source": [
    "def zonal_stats(input_zone_polygon_path, input_raster_path):\n",
    "\n",
    "    # Open data\n",
    "    raster = gdal.Open(input_raster_path)\n",
    "    shp = ogr.Open(input_zone_polygon_path)\n",
    "    lyr = shp.GetLayer()\n",
    "\n",
    "    # Get raster georeference info\n",
    "    transform = raster.GetGeoTransform()\n",
    "    xOrigin = transform[0]\n",
    "    yOrigin = transform[3]\n",
    "    pixelWidth = transform[1]\n",
    "    pixelHeight = transform[5]\n",
    "\n",
    "    # Reproject vector geometry to same projection as raster\n",
    "    sourceSR = lyr.GetSpatialRef()\n",
    "    targetSR = osr.SpatialReference()\n",
    "    targetSR.ImportFromWkt(raster.GetProjectionRef())\n",
    "    \n",
    "    coordTrans = osr.CoordinateTransformation(sourceSR,targetSR)\n",
    "    feat = lyr.GetNextFeature()\n",
    "    geom = feat.GetGeometryRef()\n",
    "    geom.SetGeoTransform(targetSR)\n",
    "\n",
    "    # Get extent of feat\n",
    "    geom = feat.GetGeometryRef()\n",
    "    if (geom.GetGeometryName() == 'MULTIPOLYGON'):\n",
    "        count = 0\n",
    "        pointsX = []; pointsY = []\n",
    "        for polygon in geom:\n",
    "            geomInner = geom.GetGeometryRef(count)\n",
    "            ring = geomInner.GetGeometryRef(0)\n",
    "            numpoints = ring.GetPointCount()\n",
    "            for p in range(numpoints):\n",
    "                    lon, lat, z = ring.GetPoint(p)\n",
    "                    pointsX.append(lon)\n",
    "                    pointsY.append(lat)\n",
    "            count += 1\n",
    "    elif (geom.GetGeometryName() == 'POLYGON'):\n",
    "        ring = geom.GetGeometryRef(0)\n",
    "        numpoints = ring.GetPointCount()\n",
    "        pointsX = []; pointsY = []\n",
    "        for p in range(numpoints):\n",
    "                lon, lat, z = ring.GetPoint(p)\n",
    "                pointsX.append(lon)\n",
    "                pointsY.append(lat)\n",
    "\n",
    "    else:\n",
    "        sys.exit(\"ERROR: Geometry needs to be either Polygon or Multipolygon\")\n",
    "\n",
    "    xmin = min(pointsX)\n",
    "    xmax = max(pointsX)\n",
    "    ymin = min(pointsY)\n",
    "    ymax = max(pointsY)\n",
    "\n",
    "    # Specify offset and rows and columns to read\n",
    "    xoff = int((xmin - xOrigin)/pixelWidth)\n",
    "    yoff = int((yOrigin - ymax)/pixelWidth)\n",
    "    xcount = int((xmax - xmin)/pixelWidth)+1\n",
    "    ycount = int((ymax - ymin)/pixelWidth)+1\n",
    "\n",
    "    # Create memory target raster\n",
    "    target_ds = gdal.GetDriverByName('MEM').Create('', xcount, ycount, 1, gdal.GDT_Byte)\n",
    "    target_ds.SetGeoTransform((\n",
    "        xmin, pixelWidth, 0,\n",
    "        ymax, 0, pixelHeight,\n",
    "    ))\n",
    "\n",
    "    # Create for target raster the same projection as for the value raster\n",
    "    raster_srs = osr.SpatialReference()\n",
    "    raster_srs.ImportFromWkt(raster.GetProjectionRef())\n",
    "    target_ds.SetProjection(raster_srs.ExportToWkt())\n",
    "\n",
    "    # Rasterize zone polygon to raster\n",
    "    gdal.RasterizeLayer(target_ds, [1], lyr, burn_values=[1])\n",
    "\n",
    "    # Read raster as arrays\n",
    "    banddataraster = raster.GetRasterBand(1)\n",
    "    dataraster = banddataraster.ReadAsArray(xoff, yoff, xcount, ycount).astype(numpy.float)\n",
    "\n",
    "    bandmask = target_ds.GetRasterBand(1)\n",
    "    datamask = bandmask.ReadAsArray(0, 0, xcount, ycount).astype(numpy.float)\n",
    "\n",
    "    # Mask zone of raster\n",
    "    zoneraster = numpy.ma.masked_array(dataraster,  numpy.logical_not(datamask))\n",
    "\n",
    "    # Calculate statistics of zonal raster\n",
    "    return numpy.average(zoneraster),numpy.mean(zoneraster),numpy.median(zoneraster),numpy.std(zoneraster),numpy.var(zoneraster)"
   ]
  },
  {
   "cell_type": "code",
   "execution_count": 149,
   "metadata": {
    "collapsed": false
   },
   "outputs": [
    {
     "name": "stdout",
     "output_type": "stream",
     "text": [
      "Numero de Features in Dataset_Shapefile: 1\n"
     ]
    }
   ],
   "source": [
    "source_ds = ogr.Open(Shapefile_Path)\n",
    "\n",
    "source_layer = source_ds.GetLayer()\n",
    "\n",
    "print(\"Numero de Features in Dataset_Shapefile: {0}\".format(source_ds.GetLayerCount()))"
   ]
  },
  {
   "cell_type": "code",
   "execution_count": 170,
   "metadata": {
    "collapsed": false
   },
   "outputs": [
    {
     "ename": "AttributeError",
     "evalue": "type object 'object' has no attribute '__getattr__'",
     "output_type": "error",
     "traceback": [
      "\u001b[0;31m---------------------------------------------------------------------------\u001b[0m",
      "\u001b[0;31mAttributeError\u001b[0m                            Traceback (most recent call last)",
      "\u001b[0;32m<ipython-input-170-58b654f2e2e3>\u001b[0m in \u001b[0;36m<module>\u001b[0;34m()\u001b[0m\n\u001b[0;32m----> 1\u001b[0;31m \u001b[0mzonal_stats\u001b[0m\u001b[1;33m(\u001b[0m\u001b[0mShapefile_Path\u001b[0m\u001b[1;33m,\u001b[0m \u001b[0mTiff_Path_Dir\u001b[0m\u001b[1;33m[\u001b[0m\u001b[1;36m0\u001b[0m\u001b[1;33m]\u001b[0m\u001b[1;33m)\u001b[0m\u001b[1;33m\u001b[0m\u001b[0m\n\u001b[0m",
      "\u001b[0;32m<ipython-input-169-3e464679ebd5>\u001b[0m in \u001b[0;36mzonal_stats\u001b[0;34m(input_zone_polygon_path, input_raster_path)\u001b[0m\n\u001b[1;32m     21\u001b[0m     \u001b[0mfeat\u001b[0m \u001b[1;33m=\u001b[0m \u001b[0mlyr\u001b[0m\u001b[1;33m.\u001b[0m\u001b[0mGetNextFeature\u001b[0m\u001b[1;33m(\u001b[0m\u001b[1;33m)\u001b[0m\u001b[1;33m\u001b[0m\u001b[0m\n\u001b[1;32m     22\u001b[0m     \u001b[0mgeom\u001b[0m \u001b[1;33m=\u001b[0m \u001b[0mfeat\u001b[0m\u001b[1;33m.\u001b[0m\u001b[0mGetGeometryRef\u001b[0m\u001b[1;33m(\u001b[0m\u001b[1;33m)\u001b[0m\u001b[1;33m\u001b[0m\u001b[0m\n\u001b[0;32m---> 23\u001b[0;31m     \u001b[0mgeom\u001b[0m\u001b[1;33m.\u001b[0m\u001b[0mSetGeoTransform\u001b[0m\u001b[1;33m(\u001b[0m\u001b[0mtargetSR\u001b[0m\u001b[1;33m)\u001b[0m\u001b[1;33m\u001b[0m\u001b[0m\n\u001b[0m\u001b[1;32m     24\u001b[0m \u001b[1;33m\u001b[0m\u001b[0m\n\u001b[1;32m     25\u001b[0m     \u001b[1;31m# Get extent of feat\u001b[0m\u001b[1;33m\u001b[0m\u001b[1;33m\u001b[0m\u001b[0m\n",
      "\u001b[0;32mC:\\Anaconda3\\lib\\site-packages\\osgeo\\ogr.py\u001b[0m in \u001b[0;36m<lambda>\u001b[0;34m(self, name)\u001b[0m\n\u001b[1;32m   6074\u001b[0m     \u001b[0m__setattr__\u001b[0m \u001b[1;33m=\u001b[0m \u001b[1;32mlambda\u001b[0m \u001b[0mself\u001b[0m\u001b[1;33m,\u001b[0m \u001b[0mname\u001b[0m\u001b[1;33m,\u001b[0m \u001b[0mvalue\u001b[0m\u001b[1;33m:\u001b[0m \u001b[0m_swig_setattr\u001b[0m\u001b[1;33m(\u001b[0m\u001b[0mself\u001b[0m\u001b[1;33m,\u001b[0m \u001b[0mGeometry\u001b[0m\u001b[1;33m,\u001b[0m \u001b[0mname\u001b[0m\u001b[1;33m,\u001b[0m \u001b[0mvalue\u001b[0m\u001b[1;33m)\u001b[0m\u001b[1;33m\u001b[0m\u001b[0m\n\u001b[1;32m   6075\u001b[0m     \u001b[0m__swig_getmethods__\u001b[0m \u001b[1;33m=\u001b[0m \u001b[1;33m{\u001b[0m\u001b[1;33m}\u001b[0m\u001b[1;33m\u001b[0m\u001b[0m\n\u001b[0;32m-> 6076\u001b[0;31m     \u001b[0m__getattr__\u001b[0m \u001b[1;33m=\u001b[0m \u001b[1;32mlambda\u001b[0m \u001b[0mself\u001b[0m\u001b[1;33m,\u001b[0m \u001b[0mname\u001b[0m\u001b[1;33m:\u001b[0m \u001b[0m_swig_getattr\u001b[0m\u001b[1;33m(\u001b[0m\u001b[0mself\u001b[0m\u001b[1;33m,\u001b[0m \u001b[0mGeometry\u001b[0m\u001b[1;33m,\u001b[0m \u001b[0mname\u001b[0m\u001b[1;33m)\u001b[0m\u001b[1;33m\u001b[0m\u001b[0m\n\u001b[0m\u001b[1;32m   6077\u001b[0m     \u001b[0m__repr__\u001b[0m \u001b[1;33m=\u001b[0m \u001b[0m_swig_repr\u001b[0m\u001b[1;33m\u001b[0m\u001b[0m\n\u001b[1;32m   6078\u001b[0m     \u001b[0m__swig_destroy__\u001b[0m \u001b[1;33m=\u001b[0m \u001b[0m_ogr\u001b[0m\u001b[1;33m.\u001b[0m\u001b[0mdelete_Geometry\u001b[0m\u001b[1;33m\u001b[0m\u001b[0m\n",
      "\u001b[0;32mC:\\Anaconda3\\lib\\site-packages\\osgeo\\ogr.py\u001b[0m in \u001b[0;36m_swig_getattr\u001b[0;34m(self, class_type, name)\u001b[0m\n\u001b[1;32m     72\u001b[0m \u001b[1;33m\u001b[0m\u001b[0m\n\u001b[1;32m     73\u001b[0m \u001b[1;32mdef\u001b[0m \u001b[0m_swig_getattr\u001b[0m\u001b[1;33m(\u001b[0m\u001b[0mself\u001b[0m\u001b[1;33m,\u001b[0m \u001b[0mclass_type\u001b[0m\u001b[1;33m,\u001b[0m \u001b[0mname\u001b[0m\u001b[1;33m)\u001b[0m\u001b[1;33m:\u001b[0m\u001b[1;33m\u001b[0m\u001b[0m\n\u001b[0;32m---> 74\u001b[0;31m     \u001b[1;32mreturn\u001b[0m \u001b[0m_swig_getattr_nondynamic\u001b[0m\u001b[1;33m(\u001b[0m\u001b[0mself\u001b[0m\u001b[1;33m,\u001b[0m \u001b[0mclass_type\u001b[0m\u001b[1;33m,\u001b[0m \u001b[0mname\u001b[0m\u001b[1;33m,\u001b[0m \u001b[1;36m0\u001b[0m\u001b[1;33m)\u001b[0m\u001b[1;33m\u001b[0m\u001b[0m\n\u001b[0m\u001b[1;32m     75\u001b[0m \u001b[1;33m\u001b[0m\u001b[0m\n\u001b[1;32m     76\u001b[0m \u001b[1;33m\u001b[0m\u001b[0m\n",
      "\u001b[0;32mC:\\Anaconda3\\lib\\site-packages\\osgeo\\ogr.py\u001b[0m in \u001b[0;36m_swig_getattr_nondynamic\u001b[0;34m(self, class_type, name, static)\u001b[0m\n\u001b[1;32m     67\u001b[0m         \u001b[1;32mreturn\u001b[0m \u001b[0mmethod\u001b[0m\u001b[1;33m(\u001b[0m\u001b[0mself\u001b[0m\u001b[1;33m)\u001b[0m\u001b[1;33m\u001b[0m\u001b[0m\n\u001b[1;32m     68\u001b[0m     \u001b[1;32mif\u001b[0m \u001b[1;33m(\u001b[0m\u001b[1;32mnot\u001b[0m \u001b[0mstatic\u001b[0m\u001b[1;33m)\u001b[0m\u001b[1;33m:\u001b[0m\u001b[1;33m\u001b[0m\u001b[0m\n\u001b[0;32m---> 69\u001b[0;31m         \u001b[1;32mreturn\u001b[0m \u001b[0mobject\u001b[0m\u001b[1;33m.\u001b[0m\u001b[0m__getattr__\u001b[0m\u001b[1;33m(\u001b[0m\u001b[0mself\u001b[0m\u001b[1;33m,\u001b[0m \u001b[0mname\u001b[0m\u001b[1;33m)\u001b[0m\u001b[1;33m\u001b[0m\u001b[0m\n\u001b[0m\u001b[1;32m     70\u001b[0m     \u001b[1;32melse\u001b[0m\u001b[1;33m:\u001b[0m\u001b[1;33m\u001b[0m\u001b[0m\n\u001b[1;32m     71\u001b[0m         \u001b[1;32mraise\u001b[0m \u001b[0mAttributeError\u001b[0m\u001b[1;33m(\u001b[0m\u001b[0mname\u001b[0m\u001b[1;33m)\u001b[0m\u001b[1;33m\u001b[0m\u001b[0m\n",
      "\u001b[0;31mAttributeError\u001b[0m: type object 'object' has no attribute '__getattr__'"
     ]
    }
   ],
   "source": [
    "zonal_stats(Shapefile_Path, Tiff_Path_Dir[0])"
   ]
  }
 ],
 "metadata": {
  "kernelspec": {
   "display_name": "Python 3",
   "language": "python",
   "name": "python3"
  },
  "language_info": {
   "codemirror_mode": {
    "name": "ipython",
    "version": 3
   },
   "file_extension": ".py",
   "mimetype": "text/x-python",
   "name": "python",
   "nbconvert_exporter": "python",
   "pygments_lexer": "ipython3",
   "version": "3.6.0"
  }
 },
 "nbformat": 4,
 "nbformat_minor": 2
}
